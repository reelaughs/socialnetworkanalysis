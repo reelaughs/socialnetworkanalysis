{
 "cells": [
  {
   "cell_type": "code",
   "execution_count": 1,
   "metadata": {},
   "outputs": [],
   "source": [
    "import networkx as nx\n",
    "import matplotlib.pyplot as plt"
   ]
  },
  {
   "cell_type": "code",
   "execution_count": 3,
   "metadata": {},
   "outputs": [
    {
     "data": {
      "text/plain": [
       "False"
      ]
     },
     "execution_count": 3,
     "metadata": {},
     "output_type": "execute_result"
    }
   ],
   "source": [
    "G=nx.read_edgelist(\"facebook_combined.txt\", create_using=nx.Graph)\n",
    "# Extra quick check to see if graph loaded properly:\n",
    "nx.is_directed(G)"
   ]
  },
  {
   "cell_type": "code",
   "execution_count": 4,
   "metadata": {},
   "outputs": [
    {
     "name": "stdout",
     "output_type": "stream",
     "text": [
      "Number of nodes: 4039\n",
      "Number of edges: 88234\n",
      "Average Clustering Coefficient: 0.6055467186200876\n"
     ]
    }
   ],
   "source": [
    "# Graph statistics: Count the Number of nodes, Number of edges, avg degree etc. \n",
    "print(f\"Number of nodes: {len(G.nodes())}\")\n",
    "print(f\"Number of edges: {len(G.edges())}\")\n",
    "average_clustering = nx.average_clustering(G)\n",
    "print(f\"Average Clustering Coefficient: {average_clustering}\")"
   ]
  },
  {
   "cell_type": "code",
   "execution_count": 5,
   "metadata": {},
   "outputs": [
    {
     "name": "stdout",
     "output_type": "stream",
     "text": [
      "Graph Diameter: 8\n",
      "Graph Density: 0.010819963503439287\n"
     ]
    }
   ],
   "source": [
    "diameter = nx.diameter(G)\n",
    "print(f\"Graph Diameter: {diameter}\")\n",
    "density = nx.density(G)\n",
    "print(f\"Graph Density: {density}\")"
   ]
  },
  {
   "cell_type": "code",
   "execution_count": 6,
   "metadata": {},
   "outputs": [
    {
     "name": "stdout",
     "output_type": "stream",
     "text": [
      "[('107', 1045), ('1684', 792), ('1912', 755), ('3437', 547), ('0', 347)]\n"
     ]
    }
   ],
   "source": [
    "# Get the degree of each node\n",
    "degree_dict = dict(G.degree())\n",
    "# Sort nodes by degree in descending order and get the top 5\n",
    "top_5_nodes = sorted(degree_dict.items(), key=lambda x: x[1], reverse=True)[:5]\n",
    "\n",
    "print(top_5_nodes)"
   ]
  },
  {
   "cell_type": "code",
   "execution_count": 8,
   "metadata": {},
   "outputs": [],
   "source": [
    "#For ease of future calculation of measures\n",
    "\n",
    "top5=['107', '1684', '1912', '3437', '0']"
   ]
  },
  {
   "cell_type": "code",
   "execution_count": 9,
   "metadata": {},
   "outputs": [
    {
     "name": "stdout",
     "output_type": "stream",
     "text": [
      "{'107': 0.258791480931154, '1684': 0.1961367013372957, '1912': 0.18697374938088163, '3437': 0.13546310054482416, '0': 0.08593363051015354}\n"
     ]
    }
   ],
   "source": [
    "# Compute degree centrality\n",
    "degree_centrality = nx.degree_centrality(G)\n",
    "\n",
    "top5_degreecentrality={node: degree_centrality[node] for node in top5}\n",
    "print(top5_degreecentrality)"
   ]
  },
  {
   "cell_type": "code",
   "execution_count": 10,
   "metadata": {},
   "outputs": [
    {
     "name": "stdout",
     "output_type": "stream",
     "text": [
      "{'107': 0.45969945355191255, '1684': 0.39360561458231796, '1912': 0.35094733182687293, '3437': 0.31441252043914975, '0': 0.35334266713335666}\n"
     ]
    }
   ],
   "source": [
    "# Compute closeness centrality\n",
    "closeness_centrality = nx.closeness_centrality(G)\n",
    "top5_closenesscentrality={node: closeness_centrality[node] for node in top5}\n",
    "print(top5_closenesscentrality)"
   ]
  },
  {
   "cell_type": "code",
   "execution_count": 11,
   "metadata": {},
   "outputs": [
    {
     "name": "stdout",
     "output_type": "stream",
     "text": [
      "{'107': 0.4805180785560152, '1684': 0.3377974497301992, '1912': 0.2292953395868782, '3437': 0.23611535735892905, '0': 0.14630592147442917}\n"
     ]
    }
   ],
   "source": [
    "# Compute betweenness centrality\n",
    "betweenness_centrality = nx.betweenness_centrality(G)\n",
    "top5_betweennesscentrality={node: betweenness_centrality[node] for node in top5}\n",
    "print(top5_betweennesscentrality)"
   ]
  },
  {
   "cell_type": "code",
   "execution_count": 12,
   "metadata": {},
   "outputs": [
    {
     "name": "stdout",
     "output_type": "stream",
     "text": [
      "{'107': 0.006936420955866114, '1684': 0.0063671621383068295, '1912': 0.0038769716008844974, '3437': 0.007614586844749603, '0': 0.006289602618466542}\n"
     ]
    }
   ],
   "source": [
    "# Compute pagerank centrality\n",
    "pagerank = nx.pagerank(G)\n",
    "\n",
    "top5_pagerank={node: pagerank[node] for node in top5}\n",
    "print(top5_pagerank)"
   ]
  },
  {
   "cell_type": "code",
   "execution_count": 13,
   "metadata": {},
   "outputs": [
    {
     "name": "stdout",
     "output_type": "stream",
     "text": [
      "{('107', '1684'): 1, ('107', '1912'): 2, ('107', '3437'): 2, ('107', '0'): 1, ('1684', '1912'): 2, ('1684', '3437'): 3, ('1684', '0'): 2, ('1912', '3437'): 3, ('1912', '0'): 2, ('3437', '0'): 3}\n"
     ]
    }
   ],
   "source": [
    "#Create a dictionary to hold shortest path distances\n",
    "shortest_path_distances = {}\n",
    "\n",
    "# Calculate pairwise shortest path distances\n",
    "for i in range(len(top5)):\n",
    "    for j in range(i + 1, len(top5)):\n",
    "        node_a = top5[i]\n",
    "        node_b = top5[j]\n",
    "        \n",
    "        if node_a in G and node_b in G:\n",
    "            # Calculate shortest path distance\n",
    "            distance = nx.shortest_path_length(G, source=node_a, target=node_b)\n",
    "            shortest_path_distances[(node_a, node_b)] = distance\n",
    "         \n",
    "print(shortest_path_distances)"
   ]
  },
  {
   "cell_type": "code",
   "execution_count": 14,
   "metadata": {},
   "outputs": [
    {
     "name": "stdout",
     "output_type": "stream",
     "text": [
      "{('107', '1684'): ['1171', '1405', '1419', '1450', '1505', '1534', '1642', '1656', '1666', '171', '1726', '1758', '58', '990'], ('107', '1912'): ['1465', '1577', '1718', '428', '563', '58'], ('107', '3437'): ['1085'], ('107', '0'): ['171', '58'], ('1684', '1912'): ['58'], ('1684', '3437'): [], ('1684', '0'): ['107', '171', '58'], ('1912', '3437'): [], ('1912', '0'): ['136', '58'], ('3437', '0'): []}\n"
     ]
    }
   ],
   "source": [
    "#Create a dictionary to hold common neighbors for each node\n",
    "common_neighbours = {}\n",
    "\n",
    "#pairwise\n",
    "for i in range(len(top5)):\n",
    "    for j in range(i + 1, len(top5)):\n",
    "        node_a = top5[i]\n",
    "        node_b = top5[j]\n",
    "        \n",
    "        if node_a in G and node_b in G:\n",
    "                    common_neighbours[(node_a, node_b)] = sorted(nx.common_neighbors(G, node_a, node_b))\n",
    "                \n",
    "print(common_neighbours)"
   ]
  },
  {
   "cell_type": "code",
   "execution_count": 19,
   "metadata": {},
   "outputs": [
    {
     "name": "stdout",
     "output_type": "stream",
     "text": [
      "(107, 1684) -> 0.00767965\n",
      "(107, 1912) -> 0.00334448\n",
      "(107, 3437) -> 0.00062854\n",
      "(107, 0) -> 0.00143885\n",
      "(1684, 1912) -> 0.00064683\n",
      "(1684, 3437) -> 0.00000000\n",
      "(1684, 0) -> 0.00264085\n",
      "(1912, 3437) -> 0.00000000\n",
      "(1912, 0) -> 0.00181818\n",
      "(3437, 0) -> 0.00000000\n"
     ]
    }
   ],
   "source": [
    "#pairwise\n",
    "for i in range(len(top5)):\n",
    "    for j in range(i + 1, len(top5)):\n",
    "        node_a = top5[i]\n",
    "        node_b = top5[j]\n",
    "        \n",
    "        if node_a in G and node_b in G:\n",
    "                                    \n",
    "            preds = nx.jaccard_coefficient(G, [(node_a, node_b)])\n",
    "          \n",
    "            for node_a, node_b, p in preds:    \n",
    "                print(f\"({node_a}, {node_b}) -> {p:.8f}\")\n",
    "    "
   ]
  },
  {
   "cell_type": "code",
   "execution_count": 20,
   "metadata": {},
   "outputs": [
    {
     "name": "stdout",
     "output_type": "stream",
     "text": [
      "(107, 1684) -> 4.25263941\n",
      "(107, 1912) -> 1.44143561\n",
      "(107, 3437) -> 0.23868315\n",
      "(107, 0) -> 0.72594506\n",
      "(1684, 1912) -> 0.40242960\n",
      "(1684, 3437) -> 0.00000000\n",
      "(1684, 0) -> 0.86979327\n",
      "(1912, 3437) -> 0.00000000\n",
      "(1912, 0) -> 0.60691398\n",
      "(3437, 0) -> 0.00000000\n"
     ]
    }
   ],
   "source": [
    "#Create a dictionary to hold AD index  \n",
    "adamicadar_index = {}\n",
    "\n",
    "#pairwise\n",
    "for i in range(len(top5)):\n",
    "    for j in range(i + 1, len(top5)):\n",
    "        node_a = top5[i]\n",
    "        node_b = top5[j]\n",
    "        \n",
    "        if node_a in G and node_b in G:\n",
    "                                    \n",
    "            preds = nx.adamic_adar_index(G, [(node_a, node_b)])\n",
    "          \n",
    "            for node_a, node_b, p in preds:    \n",
    "                print(f\"({node_a}, {node_b}) -> {p:.8f}\")\n",
    "                "
   ]
  },
  {
   "cell_type": "code",
   "execution_count": 21,
   "metadata": {},
   "outputs": [
    {
     "name": "stdout",
     "output_type": "stream",
     "text": [
      "(107, 1684) -> 0.53489433\n",
      "(107, 1912) -> 0.12461122\n",
      "(107, 3437) -> 0.01515152\n",
      "(107, 0) -> 0.12878788\n",
      "(1684, 1912) -> 0.08333333\n",
      "(1684, 3437) -> 0.00000000\n",
      "(1684, 0) -> 0.12974482\n",
      "(1912, 3437) -> 0.00000000\n",
      "(1912, 0) -> 0.09085213\n",
      "(3437, 0) -> 0.00000000\n"
     ]
    }
   ],
   "source": [
    "#pairwise\n",
    "for i in range(len(top5)):\n",
    "    for j in range(i + 1, len(top5)):\n",
    "        node_a = top5[i]\n",
    "        node_b = top5[j]\n",
    "        \n",
    "        if node_a in G and node_b in G:\n",
    "                                    \n",
    "            preds = nx.resource_allocation_index(G, [(node_a, node_b)])\n",
    "          \n",
    "            for node_a, node_b, p in preds:    \n",
    "                print(f\"({node_a}, {node_b}) -> {p:.8f}\")\n",
    "           \n",
    "                \n",
    "                "
   ]
  },
  {
   "cell_type": "code",
   "execution_count": 22,
   "metadata": {
    "scrolled": true
   },
   "outputs": [
    {
     "data": {
      "text/plain": [
       "Text(0, 0.5, 'Frequency')"
      ]
     },
     "execution_count": 22,
     "metadata": {},
     "output_type": "execute_result"
    },
    {
     "data": {
      "image/png": "[encoded data removed]",
      "text/plain": [
       "<Figure size 864x576 with 1 Axes>"
      ]
     },
     "metadata": {
      "needs_background": "light"
     },
     "output_type": "display_data"
    }
   ],
   "source": [
    "# plot the degree distribution\n",
    "m=1\n",
    "degree_freq = nx.degree_histogram(G)\n",
    "degrees = range(len(degree_freq))\n",
    "plt.figure(figsize=(12, 8)) \n",
    "plt.loglog(degrees[m:], degree_freq[m:],'go-') \n",
    "plt.xlabel('Degree')\n",
    "plt.ylabel('Frequency')"
   ]
  },
  {
   "cell_type": "code",
   "execution_count": 23,
   "metadata": {},
   "outputs": [
    {
     "data": {
      "text/plain": [
       "True"
      ]
     },
     "execution_count": 23,
     "metadata": {},
     "output_type": "execute_result"
    }
   ],
   "source": [
    "DG=nx.read_edgelist(\"soc-Epinions1.txt\", create_using=nx.DiGraph)\n",
    "# Extra quick check to see if graph loaded properly:\n",
    "nx.is_directed(DG)"
   ]
  },
  {
   "cell_type": "code",
   "execution_count": 24,
   "metadata": {},
   "outputs": [
    {
     "name": "stdout",
     "output_type": "stream",
     "text": [
      "Number of nodes: 75879\n",
      "Number of edges: 508837\n",
      "Average Clustering Coefficient: 0.11017387558244757\n"
     ]
    }
   ],
   "source": [
    "print(f\"Number of nodes: {len(DG.nodes())}\")\n",
    "print(f\"Number of edges: {len(DG.edges())}\")\n",
    "average_clustering_DG = nx.average_clustering(DG)\n",
    "print(f\"Average Clustering Coefficient: {average_clustering_DG}\")"
   ]
  },
  {
   "cell_type": "code",
   "execution_count": 25,
   "metadata": {},
   "outputs": [
    {
     "ename": "NetworkXError",
     "evalue": "Found infinite path length because the digraph is not strongly connected",
     "output_type": "error",
     "traceback": [
      "\u001b[1;31m---------------------------------------------------------------------------\u001b[0m",
      "\u001b[1;31mNetworkXError\u001b[0m                             Traceback (most recent call last)",
      "\u001b[1;32m<ipython-input-25-7a077f885454>\u001b[0m in \u001b[0;36m<module>\u001b[1;34m\u001b[0m\n\u001b[1;32m----> 1\u001b[1;33m \u001b[0mdiameter_DG\u001b[0m \u001b[1;33m=\u001b[0m \u001b[0mnx\u001b[0m\u001b[1;33m.\u001b[0m\u001b[0mdiameter\u001b[0m\u001b[1;33m(\u001b[0m\u001b[0mDG\u001b[0m\u001b[1;33m)\u001b[0m\u001b[1;33m\u001b[0m\u001b[1;33m\u001b[0m\u001b[0m\n\u001b[0m\u001b[0;32m      2\u001b[0m \u001b[0mprint\u001b[0m\u001b[1;33m(\u001b[0m\u001b[1;34mf\"Graph Diameter: {diameter_DG}\"\u001b[0m\u001b[1;33m)\u001b[0m\u001b[1;33m\u001b[0m\u001b[1;33m\u001b[0m\u001b[0m\n",
      "\u001b[1;32m~\\anaconda3\\lib\\site-packages\\networkx\\algorithms\\distance_measures.py\u001b[0m in \u001b[0;36mdiameter\u001b[1;34m(G, e, usebounds)\u001b[0m\n\u001b[0;32m    279\u001b[0m         \u001b[1;32mreturn\u001b[0m \u001b[0mextrema_bounding\u001b[0m\u001b[1;33m(\u001b[0m\u001b[0mG\u001b[0m\u001b[1;33m,\u001b[0m \u001b[0mcompute\u001b[0m\u001b[1;33m=\u001b[0m\u001b[1;34m\"diameter\"\u001b[0m\u001b[1;33m)\u001b[0m\u001b[1;33m\u001b[0m\u001b[1;33m\u001b[0m\u001b[0m\n\u001b[0;32m    280\u001b[0m     \u001b[1;32mif\u001b[0m \u001b[0me\u001b[0m \u001b[1;32mis\u001b[0m \u001b[1;32mNone\u001b[0m\u001b[1;33m:\u001b[0m\u001b[1;33m\u001b[0m\u001b[1;33m\u001b[0m\u001b[0m\n\u001b[1;32m--> 281\u001b[1;33m         \u001b[0me\u001b[0m \u001b[1;33m=\u001b[0m \u001b[0meccentricity\u001b[0m\u001b[1;33m(\u001b[0m\u001b[0mG\u001b[0m\u001b[1;33m)\u001b[0m\u001b[1;33m\u001b[0m\u001b[1;33m\u001b[0m\u001b[0m\n\u001b[0m\u001b[0;32m    282\u001b[0m     \u001b[1;32mreturn\u001b[0m \u001b[0mmax\u001b[0m\u001b[1;33m(\u001b[0m\u001b[0me\u001b[0m\u001b[1;33m.\u001b[0m\u001b[0mvalues\u001b[0m\u001b[1;33m(\u001b[0m\u001b[1;33m)\u001b[0m\u001b[1;33m)\u001b[0m\u001b[1;33m\u001b[0m\u001b[1;33m\u001b[0m\u001b[0m\n\u001b[0;32m    283\u001b[0m \u001b[1;33m\u001b[0m\u001b[0m\n",
      "\u001b[1;32m~\\anaconda3\\lib\\site-packages\\networkx\\algorithms\\distance_measures.py\u001b[0m in \u001b[0;36meccentricity\u001b[1;34m(G, v, sp)\u001b[0m\n\u001b[0;32m    244\u001b[0m                 msg = ('Found infinite path length because the graph is not'\n\u001b[0;32m    245\u001b[0m                        ' connected')\n\u001b[1;32m--> 246\u001b[1;33m             \u001b[1;32mraise\u001b[0m \u001b[0mnx\u001b[0m\u001b[1;33m.\u001b[0m\u001b[0mNetworkXError\u001b[0m\u001b[1;33m(\u001b[0m\u001b[0mmsg\u001b[0m\u001b[1;33m)\u001b[0m\u001b[1;33m\u001b[0m\u001b[1;33m\u001b[0m\u001b[0m\n\u001b[0m\u001b[0;32m    247\u001b[0m \u001b[1;33m\u001b[0m\u001b[0m\n\u001b[0;32m    248\u001b[0m         \u001b[0me\u001b[0m\u001b[1;33m[\u001b[0m\u001b[0mn\u001b[0m\u001b[1;33m]\u001b[0m \u001b[1;33m=\u001b[0m \u001b[0mmax\u001b[0m\u001b[1;33m(\u001b[0m\u001b[0mlength\u001b[0m\u001b[1;33m.\u001b[0m\u001b[0mvalues\u001b[0m\u001b[1;33m(\u001b[0m\u001b[1;33m)\u001b[0m\u001b[1;33m)\u001b[0m\u001b[1;33m\u001b[0m\u001b[1;33m\u001b[0m\u001b[0m\n",
      "\u001b[1;31mNetworkXError\u001b[0m: Found infinite path length because the digraph is not strongly connected"
     ]
    }
   ],
   "source": [
    "diameter_DG = nx.diameter(DG)\n",
    "print(f\"Graph Diameter: {diameter_DG}\")"
   ]
  },
  {
   "cell_type": "code",
   "execution_count": 26,
   "metadata": {},
   "outputs": [
    {
     "name": "stdout",
     "output_type": "stream",
     "text": [
      "Graph Density: 8.837739770666582e-05\n"
     ]
    }
   ],
   "source": [
    "density_DG = nx.density(DG)\n",
    "print(f\"Graph Density: {density_DG}\")"
   ]
  },
  {
   "cell_type": "code",
   "execution_count": 27,
   "metadata": {},
   "outputs": [
    {
     "name": "stdout",
     "output_type": "stream",
     "text": [
      "[('18', 3035), ('143', 1521), ('737', 1317), ('790', 1284), ('136', 1180)]\n",
      "[('645', 1801), ('763', 1669), ('634', 1621), ('71399', 1128), ('3924', 976)]\n"
     ]
    }
   ],
   "source": [
    "# Get the degree of each node\n",
    "indegree_dict = dict(DG.in_degree())\n",
    "outdegree_dict = dict(DG.out_degree())\n",
    "# Sort nodes by degree in descending order and get the top 5\n",
    "Si = sorted(indegree_dict.items(), key=lambda x: x[1], reverse=True)[:5]\n",
    "So = sorted(outdegree_dict.items(), key=lambda x: x[1], reverse=True)[:5]\n",
    "\n",
    "print(Si)\n",
    "print(So)"
   ]
  },
  {
   "cell_type": "code",
   "execution_count": 28,
   "metadata": {},
   "outputs": [
    {
     "name": "stdout",
     "output_type": "stream",
     "text": [
      "{'18': 0.03999841851393026, '790': 0.016921900946255834, '737': 0.017356809615435304, '143': 0.020045335933999316, '136': 0.015551279685811435}\n",
      "{'763': 0.021995835420016343, '71399': 0.014865969055589236, '3924': 0.012862753367247425, '634': 0.021363240992118927, '645': 0.023735470096734233}\n"
     ]
    }
   ],
   "source": [
    "Si={'18','143','737','790','136'}\n",
    "So={'645','763','634','71399','3924'}\n",
    "# Compute indegree centrality\n",
    "indegree_centrality= nx.in_degree_centrality(DG)\n",
    "# Compute outdegree centrality\n",
    "outdegree_centrality= nx.out_degree_centrality(DG)\n",
    "\n",
    "top5_indegreecentrality={node: indegree_centrality[node] for node in Si}\n",
    "print(top5_indegreecentrality)\n",
    "\n",
    "\n",
    "top5_outdegreecentrality={node: outdegree_centrality[node] for node in So}\n",
    "print(top5_outdegreecentrality)"
   ]
  },
  {
   "cell_type": "code",
   "execution_count": 30,
   "metadata": {},
   "outputs": [
    {
     "name": "stdout",
     "output_type": "stream",
     "text": [
      "{'18': 0.004657194750781488, '790': 0.002121522479957848, '737': 0.0028806802935228354, '143': 0.0020036756423157677, '136': 0.002035177200610162}\n",
      "{'763': 0.00039686001132716687, '71399': 0.00011794620372325831, '3924': 8.654317487992723e-05, '634': 0.00046147625862827445, '645': 0.00037430857171436905}\n"
     ]
    }
   ],
   "source": [
    "# Compute pagerank centrality\n",
    "pagerank_DG = nx.pagerank(DG)\n",
    "\n",
    "top5_pagerank_DG_Si={node: pagerank_DG[node] for node in Si}\n",
    "\n",
    "print(top5_pagerank_DG_Si)\n",
    "\n",
    "top5_pagerank_DG_So={node: pagerank_DG[node] for node in So}\n",
    "print(top5_pagerank_DG_So)"
   ]
  },
  {
   "cell_type": "code",
   "execution_count": 36,
   "metadata": {},
   "outputs": [
    {
     "name": "stdout",
     "output_type": "stream",
     "text": [
      "{('18', '143'): 2, ('18', '737'): 2, ('18', '790'): 1, ('18', '136'): 1, ('143', '737'): 1, ('143', '790'): 2, ('143', '136'): 2, ('737', '790'): 2, ('737', '136'): 2, ('790', '136'): 1}\n"
     ]
    }
   ],
   "source": [
    "#Create a dictionary to hold shortest path distances\n",
    "shortest_path_distances_Si = {}\n",
    "shortest_path_distances_So = {}\n",
    "\n",
    "Si=['18','143','737','790','136']\n",
    "\n",
    "# Calculate pairwise shortest path distances\n",
    "for i in range(len(Si)):\n",
    "    for j in range(i + 1, len(Si)):\n",
    "        node_a = Si[i]\n",
    "        node_b = Si[j]\n",
    "        \n",
    "        if node_a in DG and node_b in DG:\n",
    "            # Calculate shortest path distance\n",
    "            distance_Si = nx.shortest_path_length(DG, source=node_a, target=node_b)\n",
    "            shortest_path_distances_Si[(node_a, node_b)] = distance_Si\n",
    "         \n",
    "print(shortest_path_distances_Si)\n",
    "\n",
    "\n",
    "\n",
    "\n",
    "\n"
   ]
  },
  {
   "cell_type": "code",
   "execution_count": 37,
   "metadata": {},
   "outputs": [
    {
     "name": "stdout",
     "output_type": "stream",
     "text": [
      "{('645', '763'): 1, ('645', '634'): 1, ('645', '71399'): 2, ('645', '3924'): 2, ('763', '634'): 1, ('763', '71399'): 1, ('763', '3924'): 2, ('634', '71399'): 2, ('634', '3924'): 2, ('71399', '3924'): 2}\n"
     ]
    }
   ],
   "source": [
    "So=['645','763','634','71399','3924']\n",
    "\n",
    "# Calculate pairwise shortest path distances\n",
    "for i in range(len(So)):\n",
    "    for j in range(i + 1, len(Si)):\n",
    "        node_a = So[i]\n",
    "        node_b = So[j]\n",
    "        \n",
    "        if node_a in DG and node_b in DG:\n",
    "            # Calculate shortest path distance\n",
    "            distance_So = nx.shortest_path_length(DG, source=node_a, target=node_b)\n",
    "            shortest_path_distances_So[(node_a, node_b)] = distance_So\n",
    "         \n",
    "print(shortest_path_distances_So)"
   ]
  },
  {
   "cell_type": "code",
   "execution_count": 44,
   "metadata": {},
   "outputs": [
    {
     "name": "stdout",
     "output_type": "stream",
     "text": [
      "Count of Common In-Neighbors within Si:\n",
      "Nodes ('18', '143'): Count of Common In-Neighbors: 588\n",
      "Nodes ('18', '737'): Count of Common In-Neighbors: 422\n",
      "Nodes ('18', '790'): Count of Common In-Neighbors: 540\n",
      "Nodes ('18', '136'): Count of Common In-Neighbors: 539\n",
      "Nodes ('143', '737'): Count of Common In-Neighbors: 237\n",
      "Nodes ('143', '790'): Count of Common In-Neighbors: 282\n",
      "Nodes ('143', '136'): Count of Common In-Neighbors: 283\n",
      "Nodes ('737', '790'): Count of Common In-Neighbors: 226\n",
      "Nodes ('737', '136'): Count of Common In-Neighbors: 233\n",
      "Nodes ('790', '136'): Count of Common In-Neighbors: 311\n"
     ]
    }
   ],
   "source": [
    "import itertools\n",
    "Si = ['18', '143', '737', '790', '136']\n",
    "\n",
    "\n",
    "# Function to count common in-neighbors between two nodes\n",
    "def count_common_in_neighbors(graph, node_a, node_b):\n",
    "    in_neighbors_a = set(graph.predecessors(node_a))\n",
    "    in_neighbors_b = set(graph.predecessors(node_b))\n",
    "    return len(in_neighbors_a.intersection(in_neighbors_b))  # Return the count of common in-neighbors\n",
    "\n",
    "# Dictionary to hold the count of common in-neighbors for each pair of nodes\n",
    "common_in_neighbors_count_Si = {}\n",
    "\n",
    "# Convert node labels to integers when accessing the graph\n",
    "Si = [(node) for node in Si]  # Convert string nodes to integers\n",
    "\n",
    "# Iterate through all pairs of nodes in Si\n",
    "for node_a, node_b in itertools.combinations(Si, 2):\n",
    "    count_common_in = count_common_in_neighbors(DG, node_a, node_b)\n",
    "    common_in_neighbors_count_Si[(node_a, node_b)] = count_common_in\n",
    "\n",
    "# Print the count of common in-neighbors for each pair of nodes in Si\n",
    "print(\"Count of Common In-Neighbors within Si:\")\n",
    "for pair, count in common_in_neighbors_count_Si.items():\n",
    "    print(f\"Nodes {pair}: Count of Common In-Neighbors: {count}\")"
   ]
  },
  {
   "cell_type": "code",
   "execution_count": null,
   "metadata": {},
   "outputs": [],
   "source": [
    "So = ['645', '763', '634', '71399', '3924']"
   ]
  },
  {
   "cell_type": "code",
   "execution_count": 45,
   "metadata": {},
   "outputs": [
    {
     "name": "stdout",
     "output_type": "stream",
     "text": [
      "Count of Common Out-Neighbors within So:\n",
      "Nodes ('645', '763'): Count of Common Out-Neighbors: 345\n",
      "Nodes ('645', '634'): Count of Common Out-Neighbors: 524\n",
      "Nodes ('645', '71399'): Count of Common Out-Neighbors: 241\n",
      "Nodes ('645', '3924'): Count of Common Out-Neighbors: 87\n",
      "Nodes ('763', '634'): Count of Common Out-Neighbors: 295\n",
      "Nodes ('763', '71399'): Count of Common Out-Neighbors: 138\n",
      "Nodes ('763', '3924'): Count of Common Out-Neighbors: 41\n",
      "Nodes ('634', '71399'): Count of Common Out-Neighbors: 202\n",
      "Nodes ('634', '3924'): Count of Common Out-Neighbors: 77\n",
      "Nodes ('71399', '3924'): Count of Common Out-Neighbors: 113\n"
     ]
    }
   ],
   "source": [
    "# Function to count common out-neighbors between two nodes\n",
    "def count_common_out_neighbors(graph, node_a, node_b):\n",
    "    out_neighbors_a = set(graph.successors(node_a))\n",
    "    out_neighbors_b = set(graph.successors(node_b))\n",
    "    return len(out_neighbors_a.intersection(out_neighbors_b))  # Return the count of common out-neighbors\n",
    "\n",
    "# Dictionary to hold the count of common out-neighbors for each pair of nodes\n",
    "common_out_neighbors_count_So = {}\n",
    "\n",
    "# Convert node labels to integers when accessing the graph\n",
    "So = [(node) for node in So]  # Convert string nodes to integers\n",
    "\n",
    "# Iterate through all pairs of nodes in So\n",
    "for node_a, node_b in itertools.combinations(So, 2):\n",
    "    count_common_out = count_common_out_neighbors(DG, node_a, node_b)\n",
    "    common_out_neighbors_count_So[(node_a, node_b)] = count_common_out\n",
    "\n",
    "# Print the count of common out-neighbors for each pair of nodes in So\n",
    "print(\"Count of Common Out-Neighbors within So:\")\n",
    "for pair, count in common_out_neighbors_count_So.items():\n",
    "    print(f\"Nodes {pair}: Count of Common Out-Neighbors: {count}\")"
   ]
  },
  {
   "cell_type": "code",
   "execution_count": 46,
   "metadata": {},
   "outputs": [
    {
     "name": "stdout",
     "output_type": "stream",
     "text": [
      "Jaccard Similarity (In-Neighbors) within Si:\n",
      "Nodes ('18', '143'): Jaccard Similarity: 0.1482\n",
      "Nodes ('18', '737'): Jaccard Similarity: 0.1074\n",
      "Nodes ('18', '790'): Jaccard Similarity: 0.1429\n",
      "Nodes ('18', '136'): Jaccard Similarity: 0.1466\n",
      "Nodes ('143', '737'): Jaccard Similarity: 0.0911\n",
      "Nodes ('143', '790'): Jaccard Similarity: 0.1118\n",
      "Nodes ('143', '136'): Jaccard Similarity: 0.1170\n",
      "Nodes ('737', '790'): Jaccard Similarity: 0.0952\n",
      "Nodes ('737', '136'): Jaccard Similarity: 0.1029\n",
      "Nodes ('790', '136'): Jaccard Similarity: 0.1444\n"
     ]
    }
   ],
   "source": [
    "# Function to compute Jaccard similarity between two nodes based on in-neighbors\n",
    "def jaccard_similarity_in(graph, node_a, node_b):\n",
    "    in_neighbors_a = set(graph.predecessors(node_a))\n",
    "    in_neighbors_b = set(graph.predecessors(node_b))\n",
    "    # Compute intersection and union\n",
    "    intersection = in_neighbors_a.intersection(in_neighbors_b)\n",
    "    union = in_neighbors_a.union(in_neighbors_b)\n",
    "    # Return Jaccard similarity\n",
    "    if not union:  # Avoid division by zero if union is empty\n",
    "        return 0\n",
    "    return len(intersection) / len(union)\n",
    "\n",
    "# Dictionary to hold Jaccard similarity values for each pair of nodes\n",
    "jaccard_similarity_Si = {}\n",
    "\n",
    "# Convert node labels to integers when accessing the graph\n",
    "Si = [(node) for node in Si] \n",
    "\n",
    "# Iterate through all pairs of nodes in Si\n",
    "for node_a, node_b in itertools.combinations(Si, 2):\n",
    "    jaccard_sim = jaccard_similarity_in(DG, node_a, node_b)\n",
    "    jaccard_similarity_Si[(node_a, node_b)] = jaccard_sim\n",
    "\n",
    "# Print the Jaccard similarity values for each pair of nodes in Si\n",
    "print(\"Jaccard Similarity (In-Neighbors) within Si:\")\n",
    "for pair, similarity in jaccard_similarity_Si.items():\n",
    "    print(f\"Nodes {pair}: Jaccard Similarity: {similarity:.4f}\")"
   ]
  },
  {
   "cell_type": "code",
   "execution_count": 47,
   "metadata": {},
   "outputs": [
    {
     "name": "stdout",
     "output_type": "stream",
     "text": [
      "Jaccard Similarity (Out-Neighbors) within So:\n",
      "Nodes ('645', '763'): Jaccard Similarity: 0.1104\n",
      "Nodes ('645', '634'): Jaccard Similarity: 0.1808\n",
      "Nodes ('645', '71399'): Jaccard Similarity: 0.0897\n",
      "Nodes ('645', '3924'): Jaccard Similarity: 0.0323\n",
      "Nodes ('763', '634'): Jaccard Similarity: 0.0985\n",
      "Nodes ('763', '71399'): Jaccard Similarity: 0.0519\n",
      "Nodes ('763', '3924'): Jaccard Similarity: 0.0157\n",
      "Nodes ('634', '71399'): Jaccard Similarity: 0.0793\n",
      "Nodes ('634', '3924'): Jaccard Similarity: 0.0306\n",
      "Nodes ('71399', '3924'): Jaccard Similarity: 0.0568\n"
     ]
    }
   ],
   "source": [
    "# Function to compute Jaccard similarity between two nodes based on out-neighbors\n",
    "def jaccard_similarity_out(graph, node_a, node_b):\n",
    "    out_neighbors_a = set(graph.successors(node_a))  # Out-neighbors\n",
    "    out_neighbors_b = set(graph.successors(node_b))\n",
    "    # Compute intersection and union\n",
    "    intersection = out_neighbors_a.intersection(out_neighbors_b)\n",
    "    union = out_neighbors_a.union(out_neighbors_b)\n",
    "    # Return Jaccard similarity\n",
    "    if not union:  # Avoid division by zero if union is empty\n",
    "        return 0\n",
    "    return len(intersection) / len(union)\n",
    "\n",
    "# Dictionary to hold Jaccard similarity values for each pair of nodes\n",
    "jaccard_similarity_So = {}\n",
    "\n",
    "# Convert node labels to integers when accessing the graph\n",
    "So = [(node) for node in So]  # Convert string nodes to integers\n",
    "\n",
    "# Iterate through all pairs of nodes in So\n",
    "for node_a, node_b in itertools.combinations(So, 2):\n",
    "    jaccard_sim = jaccard_similarity_out(DG, node_a, node_b)\n",
    "    jaccard_similarity_So[(node_a, node_b)] = jaccard_sim\n",
    "\n",
    "# Print the Jaccard similarity values for each pair of nodes in So\n",
    "print(\"Jaccard Similarity (Out-Neighbors) within So:\")\n",
    "for pair, similarity in jaccard_similarity_So.items():\n",
    "    print(f\"Nodes {pair}: Jaccard Similarity: {similarity:.4f}\")"
   ]
  },
  {
   "cell_type": "code",
   "execution_count": 64,
   "metadata": {},
   "outputs": [
    {
     "data": {
      "text/plain": [
       "Text(0, 0.5, 'Frequency')"
      ]
     },
     "execution_count": 64,
     "metadata": {},
     "output_type": "execute_result"
    },
    {
     "data": {
      "image/png": "[encoded data removed]",
      "text/plain": [
       "<Figure size 864x576 with 1 Axes>"
      ]
     },
     "metadata": {
      "needs_background": "light"
     },
     "output_type": "display_data"
    }
   ],
   "source": [
    "def degree_histogram_directed(DG, in_degree=False, out_degree=False):\n",
    "    \"\"\"Return a list of the frequency of each degree value.\n",
    "\n",
    "    Parameters\n",
    "    ----------\n",
    "    DG : Networkx graph\n",
    "       A graph\n",
    "    in_degree : bool\n",
    "    out_degree : bool\n",
    "\n",
    "    Returns\n",
    "    -------\n",
    "    hist : list\n",
    "       A list of frequencies of degrees.\n",
    "       The degree values are the index in the list.\n",
    "\n",
    "    Notes\n",
    "    -----\n",
    "    Note: the bins are width one, hence len(list) can be large\n",
    "    (Order(number_of_edges))\n",
    "    \"\"\"\n",
    "    nodes = DG.nodes()\n",
    "    if in_degree:\n",
    "        in_degree = dict(DG.in_degree())\n",
    "        degseq=[in_degree.get(k,0) for k in nodes]\n",
    "    elif out_degree:\n",
    "        out_degree = dict(DG.out_degree())\n",
    "        degseq=[out_degree.get(k,0) for k in nodes]\n",
    "    else:\n",
    "        degseq=[v for k, v in DG.degree()]\n",
    "    dmax=max(degseq)+1\n",
    "    freq= [ 0 for d in range(dmax) ]\n",
    "    for d in degseq:\n",
    "        freq[d] += 1\n",
    "    return freq\n",
    "\n",
    "## Plot the degree\n",
    "DG = nx.scale_free_graph(1000)\n",
    "\n",
    "in_degree_freq = degree_histogram_directed(DG, in_degree=True)\n",
    "out_degree_freq = degree_histogram_directed(DG, out_degree=True)\n",
    "degrees = range(len(in_degree_freq))\n",
    "plt.figure(figsize=(12, 8)) \n",
    "plt.loglog(range(len(in_degree_freq)), in_degree_freq, 'go-', label='in-degree') \n",
    "plt.loglog(range(len(out_degree_freq)), out_degree_freq, 'bo-', label='out-degree')\n",
    "plt.xlabel('Degree')\n",
    "plt.ylabel('Frequency')\n"
   ]
  },
  {
   "cell_type": "code",
   "execution_count": 62,
   "metadata": {},
   "outputs": [
    {
     "data": {
      "text/plain": [
       "Text(0, 0.5, 'Frequency')"
      ]
     },
     "execution_count": 62,
     "metadata": {},
     "output_type": "execute_result"
    },
    {
     "data": {
      "image/png": "[encoded data removed]",
      "text/plain": [
       "<Figure size 864x576 with 1 Axes>"
      ]
     },
     "metadata": {
      "needs_background": "light"
     },
     "output_type": "display_data"
    }
   ],
   "source": [
    "# plot the degree distribution\n",
    "m=1\n",
    "degree_freq = nx.degree_histogram(DG)\n",
    "degrees = range(len(degree_freq))\n",
    "plt.figure(figsize=(12, 8)) \n",
    "plt.loglog(degrees[m:], degree_freq[m:],'ro-') \n",
    "plt.xlabel('Degree')\n",
    "plt.ylabel('Frequency')"
   ]
  }
 ],
 "metadata": {
  "kernelspec": {
   "display_name": "Python 3",
   "language": "python",
   "name": "python3"
  },
  "language_info": {
   "codemirror_mode": {
    "name": "ipython",
    "version": 3
   },
   "file_extension": ".py",
   "mimetype": "text/x-python",
   "name": "python",
   "nbconvert_exporter": "python",
   "pygments_lexer": "ipython3",
   "version": "3.7.6"
  }
 },
 "nbformat": 4,
 "nbformat_minor": 4
}
